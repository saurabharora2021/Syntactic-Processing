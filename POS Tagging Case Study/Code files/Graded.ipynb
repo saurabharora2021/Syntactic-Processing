{
  "cells": [
    {
      "cell_type": "markdown",
      "metadata": {
        "id": "npY9MI1yIyK8"
      },
      "source": [
        "## Importing libraries"
      ]
    },
    {
      "cell_type": "code",
      "execution_count": 2,
      "metadata": {
        "id": "xp8j7pqtIyLC"
      },
      "outputs": [],
      "source": [
        "import pandas as pd\n",
        "import numpy as np\n",
        "from tqdm import tqdm"
      ]
    },
    {
      "cell_type": "markdown",
      "metadata": {
        "id": "Xr_U2bl3IyLD"
      },
      "source": [
        "### Read reviews data"
      ]
    },
    {
      "cell_type": "code",
      "execution_count": 3,
      "metadata": {
        "id": "fFKFirMfIyLE"
      },
      "outputs": [],
      "source": [
        "tagged = pd.read_csv(\"tagged_words.csv\")"
      ]
    },
    {
      "cell_type": "code",
      "execution_count": 4,
      "metadata": {},
      "outputs": [
        {
          "data": {
            "text/html": [
              "<div>\n",
              "<style scoped>\n",
              "    .dataframe tbody tr th:only-of-type {\n",
              "        vertical-align: middle;\n",
              "    }\n",
              "\n",
              "    .dataframe tbody tr th {\n",
              "        vertical-align: top;\n",
              "    }\n",
              "\n",
              "    .dataframe thead th {\n",
              "        text-align: right;\n",
              "    }\n",
              "</style>\n",
              "<table border=\"1\" class=\"dataframe\">\n",
              "  <thead>\n",
              "    <tr style=\"text-align: right;\">\n",
              "      <th></th>\n",
              "      <th>word</th>\n",
              "      <th>tag</th>\n",
              "    </tr>\n",
              "  </thead>\n",
              "  <tbody>\n",
              "    <tr>\n",
              "      <th>0</th>\n",
              "      <td>the</td>\n",
              "      <td>DET</td>\n",
              "    </tr>\n",
              "    <tr>\n",
              "      <th>1</th>\n",
              "      <td>fulton</td>\n",
              "      <td>NOUN</td>\n",
              "    </tr>\n",
              "    <tr>\n",
              "      <th>2</th>\n",
              "      <td>county</td>\n",
              "      <td>NOUN</td>\n",
              "    </tr>\n",
              "    <tr>\n",
              "      <th>3</th>\n",
              "      <td>grand</td>\n",
              "      <td>ADJ</td>\n",
              "    </tr>\n",
              "    <tr>\n",
              "      <th>4</th>\n",
              "      <td>jury</td>\n",
              "      <td>NOUN</td>\n",
              "    </tr>\n",
              "  </tbody>\n",
              "</table>\n",
              "</div>"
            ],
            "text/plain": [
              "     word   tag\n",
              "0     the   DET\n",
              "1  fulton  NOUN\n",
              "2  county  NOUN\n",
              "3   grand   ADJ\n",
              "4    jury  NOUN"
            ]
          },
          "execution_count": 4,
          "metadata": {},
          "output_type": "execute_result"
        }
      ],
      "source": [
        "tagged.head()"
      ]
    },
    {
      "cell_type": "code",
      "execution_count": 5,
      "metadata": {},
      "outputs": [
        {
          "data": {
            "text/plain": [
              "word  tag \n",
              "saw   VERB    347\n",
              "      NOUN      5\n",
              "dtype: int64"
            ]
          },
          "execution_count": 5,
          "metadata": {},
          "output_type": "execute_result"
        }
      ],
      "source": [
        "tagged[tagged.word.str.lower() == 'saw'].value_counts()"
      ]
    },
    {
      "cell_type": "code",
      "execution_count": 6,
      "metadata": {},
      "outputs": [
        {
          "data": {
            "text/plain": [
              "'73'"
            ]
          },
          "execution_count": 6,
          "metadata": {},
          "output_type": "execute_result"
        }
      ],
      "source": [
        "words = list(set(tagged.word.str.lower()))\n",
        "words[1]"
      ]
    },
    {
      "cell_type": "code",
      "execution_count": 10,
      "metadata": {},
      "outputs": [
        {
          "name": "stdout",
          "output_type": "stream",
          "text": [
            "nan\n",
            "73\n",
            "155\n",
            "continue\n",
            "vp\n"
          ]
        }
      ],
      "source": [
        "for word in words[:5]:\n",
        "    print(word)"
      ]
    },
    {
      "cell_type": "code",
      "execution_count": 21,
      "metadata": {},
      "outputs": [
        {
          "name": "stdout",
          "output_type": "stream",
          "text": [
            "Series([], dtype: int64)\n",
            "word  tag\n",
            "73    NUM    4\n",
            "dtype: int64\n",
            "word  tag\n",
            "155   NUM    1\n",
            "dtype: int64\n",
            "word      tag \n",
            "continue  VERB    107\n",
            "dtype: int64\n",
            "word  tag \n",
            "vp    NOUN    2\n",
            "dtype: int64\n",
            "word     tag\n",
            "pending  ADJ    9\n",
            "dtype: int64\n",
            "word    tag \n",
            "sholom  NOUN    1\n",
            "dtype: int64\n",
            "word     tag \n",
            "redress  NOUN    1\n",
            "dtype: int64\n",
            "word    tag \n",
            "invent  VERB    7\n",
            "dtype: int64\n",
            "word    tag \n",
            "square  NOUN    107\n",
            "dtype: int64\n"
          ]
        },
        {
          "data": {
            "text/html": [
              "<div>\n",
              "<style scoped>\n",
              "    .dataframe tbody tr th:only-of-type {\n",
              "        vertical-align: middle;\n",
              "    }\n",
              "\n",
              "    .dataframe tbody tr th {\n",
              "        vertical-align: top;\n",
              "    }\n",
              "\n",
              "    .dataframe thead th {\n",
              "        text-align: right;\n",
              "    }\n",
              "</style>\n",
              "<table border=\"1\" class=\"dataframe\">\n",
              "  <thead>\n",
              "    <tr style=\"text-align: right;\">\n",
              "      <th></th>\n",
              "    </tr>\n",
              "  </thead>\n",
              "  <tbody>\n",
              "  </tbody>\n",
              "</table>\n",
              "</div>"
            ],
            "text/plain": [
              "Empty DataFrame\n",
              "Columns: []\n",
              "Index: []"
            ]
          },
          "execution_count": 21,
          "metadata": {},
          "output_type": "execute_result"
        }
      ],
      "source": [
        "\n",
        "freq = pd.DataFrame()\n",
        "for word in words[0:10]:\n",
        "    data = tagged[tagged.word.str.lower() == word]\n",
        "    print(data.value_counts().head(1))\n",
        "    #freq.append(data.value_counts(), ignore_index= True)\n",
        "\n",
        "freq"
      ]
    },
    {
      "cell_type": "code",
      "execution_count": 14,
      "metadata": {},
      "outputs": [
        {
          "data": {
            "text/html": [
              "<div>\n",
              "<style scoped>\n",
              "    .dataframe tbody tr th:only-of-type {\n",
              "        vertical-align: middle;\n",
              "    }\n",
              "\n",
              "    .dataframe tbody tr th {\n",
              "        vertical-align: top;\n",
              "    }\n",
              "\n",
              "    .dataframe thead th {\n",
              "        text-align: right;\n",
              "    }\n",
              "</style>\n",
              "<table border=\"1\" class=\"dataframe\">\n",
              "  <thead>\n",
              "    <tr style=\"text-align: right;\">\n",
              "      <th></th>\n",
              "    </tr>\n",
              "  </thead>\n",
              "  <tbody>\n",
              "  </tbody>\n",
              "</table>\n",
              "</div>"
            ],
            "text/plain": [
              "Empty DataFrame\n",
              "Columns: []\n",
              "Index: []"
            ]
          },
          "execution_count": 14,
          "metadata": {},
          "output_type": "execute_result"
        }
      ],
      "source": [
        "freq.head()"
      ]
    },
    {
      "cell_type": "code",
      "execution_count": null,
      "metadata": {},
      "outputs": [],
      "source": [
        "data = pd.read_csv(\"tagged_words.csv\")\n",
        "s = \"He wished he was rich\"\n",
        " \n",
        "def get_common_tag(data,word):\n",
        "    if word.lower() in data['word'].unique():\n",
        "        q = f\"word=='{word.lower()}'\"\n",
        "        return word , data.query(q)['tag'].value_counts().head(1).index.tolist()[0]\n",
        "    else:\n",
        "        return f\"{word} not in data\"\n",
        " \n",
        "for word in s.split(\" \"):\n",
        "    print(get_common_tag(data,word))"
      ]
    },
    {
      "cell_type": "code",
      "execution_count": null,
      "metadata": {},
      "outputs": [],
      "source": [
        "import pandas as pd\n",
        "data = pd.read_csv(\"tagged_words.csv\")\n",
        "emmission_matrix = pd.crosstab(data['word'],data['tag'],normalize='columns')\n",
        "\n"
      ]
    },
    {
      "cell_type": "code",
      "execution_count": null,
      "metadata": {},
      "outputs": [],
      "source": [
        "word = 'his'\n",
        "emmission_matrix.loc[word][emmission_matrix.loc[word]>0].round(3)\n",
        "emmission_matrix['PRON'].loc['his'].round(3)"
      ]
    }
  ],
  "metadata": {
    "colab": {
      "name": "POS4.ipynb.txt",
      "provenance": []
    },
    "interpreter": {
      "hash": "625c31d6b4db3d7e7e2853cc30dc2062e1cda684f3e49d5f899ae496ae755fe0"
    },
    "kernelspec": {
      "display_name": "Python 3.8.12 64-bit ('3.8.12': pyenv)",
      "name": "python3"
    },
    "language_info": {
      "codemirror_mode": {
        "name": "ipython",
        "version": 3
      },
      "file_extension": ".py",
      "mimetype": "text/x-python",
      "name": "python",
      "nbconvert_exporter": "python",
      "pygments_lexer": "ipython3",
      "version": "3.8.12"
    }
  },
  "nbformat": 4,
  "nbformat_minor": 0
}
